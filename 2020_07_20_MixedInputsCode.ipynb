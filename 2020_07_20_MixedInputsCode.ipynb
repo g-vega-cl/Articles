{
  "nbformat": 4,
  "nbformat_minor": 0,
  "metadata": {
    "colab": {
      "name": "2020_07_20-MixedInputsCode.ipynb",
      "provenance": [],
      "collapsed_sections": []
    },
    "kernelspec": {
      "name": "python3",
      "display_name": "Python 3"
    },
    "accelerator": "GPU"
  },
  "cells": [
    {
      "cell_type": "code",
      "metadata": {
        "id": "9UEr5OPQ_OfC",
        "colab_type": "code",
        "colab": {}
      },
      "source": [
        "import numpy as np\n",
        "import random\n",
        "from PIL import Image\n",
        "import tensorflow as tf\n",
        "from tensorflow import keras\n",
        "import matplotlib.pyplot as plt\n",
        "from IPython.display import clear_output"
      ],
      "execution_count": 1,
      "outputs": []
    },
    {
      "cell_type": "code",
      "metadata": {
        "id": "NW1IpO6x_TjC",
        "colab_type": "code",
        "colab": {}
      },
      "source": [
        "X_image = [[0,255,0],[255,0,255],[0,255,0]]\n",
        "I_image = [[255,0,255],[255,0,255],[255,0,255]]"
      ],
      "execution_count": 2,
      "outputs": []
    },
    {
      "cell_type": "code",
      "metadata": {
        "id": "uo0Va5ot_T0S",
        "colab_type": "code",
        "colab": {
          "base_uri": "https://localhost:8080/",
          "height": 117
        },
        "outputId": "4c58fdaa-07e6-46c7-9439-91ff1a266351"
      },
      "source": [
        "im = Image.fromarray(np.array(X_image).astype('uint8'))\n",
        "im.resize((100,100),0)"
      ],
      "execution_count": 3,
      "outputs": [
        {
          "output_type": "execute_result",
          "data": {
            "image/png": "[encoded data removed]",
            "text/plain": [
              "<PIL.Image.Image image mode=L size=100x100 at 0x7F9620E51748>"
            ]
          },
          "metadata": {
            "tags": []
          },
          "execution_count": 3
        }
      ]
    },
    {
      "cell_type": "code",
      "metadata": {
        "id": "-vnIAm7GwRjI",
        "colab_type": "code",
        "colab": {}
      },
      "source": [
        "#normalize images\n",
        "X_image = [[0,1,0],[1,0,1],[0,1,0]]\n",
        "I_image = [[1,0,1],[1,0,1],[1,0,1]]"
      ],
      "execution_count": 4,
      "outputs": []
    },
    {
      "cell_type": "code",
      "metadata": {
        "id": "X1vBC1JA_UkB",
        "colab_type": "code",
        "colab": {}
      },
      "source": [
        "import random\n",
        "import numpy as np\n",
        "\n",
        "number_of_examples = 32\n",
        "# Our first input consists of our batch size and the 2 dimensional images (3x3).\n",
        "input_images = np.ones((number_of_examples,3,3))\n",
        "# Our second input consists of our batch size and the 1 dimensional numerical data.\n",
        "input_number = np.zeros((number_of_examples,1))\n",
        "# The output consists of our batch size and 1 dimensional numerical data.\n",
        "output_array = np.zeros((number_of_examples,1))\n",
        "\n",
        "for i in range(number_of_examples):\n",
        "\t#Randomly get our number\n",
        "\trandom_number = random.randint(0,1)\n",
        "\t#Randomly select our image\n",
        "\trandom_image = random.randint(0,1)\n",
        "\t\n",
        "\tif(random_image == 0):\n",
        "\t\timage = X_image\n",
        "\telse:\n",
        "\t\timage = I_image\n",
        "\n",
        "\t#Getting our output\n",
        "\tif(random_number == 0):\n",
        "\t\tif(random_image == 0):\n",
        "\t\t\toutput = 1\n",
        "\t\telse:\n",
        "\t\t\toutput = 0\n",
        "\telse:\n",
        "\t\tif(random_image == 0):\n",
        "\t\t\toutput = 0\n",
        "\t\telse:\n",
        "\t\t\toutput = 1\n",
        "\n",
        "\tinput_images[i] = image\n",
        "\tinput_number[i] = random_number\n",
        "\toutput_array[i] = output\n",
        "\n",
        "#We reshape our images to the format: (batch, rows, columns, channels)\n",
        "input_images = input_images.reshape(number_of_examples,3,3,1)"
      ],
      "execution_count": 5,
      "outputs": []
    },
    {
      "cell_type": "code",
      "metadata": {
        "id": "SLzmPQ4W_YjE",
        "colab_type": "code",
        "colab": {
          "base_uri": "https://localhost:8080/",
          "height": 73
        },
        "outputId": "26ba87cb-b599-45d9-b602-42b9984f3cbf"
      },
      "source": [
        "print(input_images.shape)\n",
        "print(input_number.shape)\n",
        "print(output_array.shape)"
      ],
      "execution_count": 6,
      "outputs": [
        {
          "output_type": "stream",
          "text": [
            "(32, 3, 3, 1)\n",
            "(32, 1)\n",
            "(32, 1)\n"
          ],
          "name": "stdout"
        }
      ]
    },
    {
      "cell_type": "code",
      "metadata": {
        "id": "GGMzRMnV_Y0R",
        "colab_type": "code",
        "colab": {}
      },
      "source": [
        "#Importing from the keras.Model class\n",
        "class model(keras.Model):\n",
        "  def __init__(self):\n",
        "    super().__init__()\n",
        "    \n",
        "    #The layers to process our image\n",
        "    self.Conv2D_1 = tf.keras.layers.Conv2D(filters = 32,\n",
        "                                           kernel_size = (1,1),\n",
        "                                          strides = (1,1)\n",
        "                                          )\n",
        "    \n",
        "    self.Conv2D_2 = tf.keras.layers.Conv2D(filters = 32,\n",
        "                                           kernel_size = (3,3),\n",
        "                                          strides = (1,1)\n",
        "                                          )    \n",
        "\n",
        "    #The layers to process our number\n",
        "    self.Number_dense_1 = tf.keras.layers.Dense(units=32, activation=\"relu\")\n",
        "    self.Number_dense_2 = tf.keras.layers.Dense(units=16, activation=\"relu\")\n",
        "\n",
        "    #our combined layers\n",
        "    self.Combined_dense_1 = tf.keras.layers.Dense(units=32, activation=\"relu\")\n",
        "    self.Combined_dense_2 = tf.keras.layers.Dense(units=2, activation=\"softmax\")\n",
        "\n",
        "\n",
        "  def call(self, input_image,input_number):\n",
        "    \n",
        "    #Image model\n",
        "    I = self.Conv2D_1(input_image)\n",
        "    I = self.Conv2D_2(I)\n",
        "    #Flatten I so we can merge our data.\n",
        "    I = tf.keras.layers.Flatten()(I)\n",
        "\n",
        "    #Number model\n",
        "    N = self.Number_dense_1(input_number)\n",
        "    N = self.Number_dense_2(N)\n",
        "\n",
        "    #Combined model\n",
        "    x = tf.concat([N,I],1) #Concatenate through axis #1\n",
        "    x = self.Combined_dense_1(x)\n",
        "    x = self.Combined_dense_2(x)\n",
        "    return x\n"
      ],
      "execution_count": 37,
      "outputs": []
    },
    {
      "cell_type": "code",
      "metadata": {
        "id": "_AeUWQvg_bfB",
        "colab_type": "code",
        "colab": {}
      },
      "source": [
        "network = model()"
      ],
      "execution_count": 38,
      "outputs": []
    },
    {
      "cell_type": "code",
      "metadata": {
        "id": "Bv-4sD5nhVvs",
        "colab_type": "code",
        "colab": {}
      },
      "source": [
        "optimizer = tf.keras.optimizers.Adam()\n",
        "loss_function = tf.keras.losses.SparseCategoricalCrossentropy(from_logits=True)"
      ],
      "execution_count": 39,
      "outputs": []
    },
    {
      "cell_type": "code",
      "metadata": {
        "id": "N8oOBBbghZMf",
        "colab_type": "code",
        "colab": {}
      },
      "source": [
        "def train_step(model, optimizer,loss_function,\n",
        "            images_batch,numbers_batch,\n",
        "            labels):\n",
        "  \n",
        "  with tf.GradientTape() as tape:\n",
        "    model_output = model(images_batch,numbers_batch)\n",
        "    loss = loss_function(labels,model_output) #our labels vs our predictions\n",
        "\n",
        "  grads = tape.gradient(loss, model.trainable_variables)\n",
        "  optimizer.apply_gradients(zip(grads, model.trainable_variables))\n",
        "\n",
        "  return loss\n"
      ],
      "execution_count": 40,
      "outputs": []
    },
    {
      "cell_type": "code",
      "metadata": {
        "id": "RItmaQYVhwdQ",
        "colab_type": "code",
        "colab": {}
      },
      "source": [
        "def train(model, optimizer,loss_function,epochs,\n",
        "            images_batch,numbers_batch,\n",
        "            labels):\n",
        "  loss_array = []\n",
        "  for epoch in range(epochs):\n",
        "    loss = train_step(model, optimizer,loss_function,images_batch,numbers_batch,labels)\n",
        "    loss_array.append(loss)\n",
        "      \n",
        "\n",
        "    if ((epoch+1)%20 == 0):\n",
        "      #Calculating accuracy\n",
        "      network_output = network(images_batch,numbers_batch)\n",
        "      preds = np.argmax(network_output, axis = 1)\n",
        "      acc = 0\n",
        "      for i in range(len(images_batch)):\n",
        "        if(preds[i]== labels[i]):\n",
        "          acc += 1\n",
        "      \n",
        "      print (\" loss:\", loss, \"  Accuracy: \", acc/len(images_batch)*100,\"%\")\n",
        "\n",
        "      fig = plt.figure(figsize = (10,4))\n",
        "      plt.plot(loss_array)\n",
        "      plt.show()\n",
        "      clear_output(wait = True)"
      ],
      "execution_count": 41,
      "outputs": []
    },
    {
      "cell_type": "code",
      "metadata": {
        "id": "ADSV1Pjaile4",
        "colab_type": "code",
        "colab": {
          "base_uri": "https://localhost:8080/",
          "height": 284
        },
        "outputId": "4cac3d0c-3e1a-4795-a86c-56cc9a7cf18a"
      },
      "source": [
        "train(network,optimizer,loss_function,200,input_images,input_number,output_array)"
      ],
      "execution_count": 42,
      "outputs": [
        {
          "output_type": "stream",
          "text": [
            " loss: tf.Tensor(0.31879678, shape=(), dtype=float32)   Accuracy:  100.0 %\n"
          ],
          "name": "stdout"
        },
        {
          "output_type": "display_data",
          "data": {
            "image/png": "[encoded data removed]",
            "text/plain": [
              "<Figure size 720x288 with 1 Axes>"
            ]
          },
          "metadata": {
            "tags": [],
            "needs_background": "light"
          }
        }
      ]
    }
  ]
}