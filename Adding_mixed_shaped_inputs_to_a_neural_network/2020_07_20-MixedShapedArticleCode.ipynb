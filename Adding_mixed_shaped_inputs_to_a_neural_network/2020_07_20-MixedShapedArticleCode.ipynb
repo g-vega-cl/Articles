{
 "cells": [
  {
   "cell_type": "code",
   "execution_count": 117,
   "metadata": {},
   "outputs": [
    {
     "ename": "ModuleNotFoundError",
     "evalue": "No module named 'tensorflow'",
     "output_type": "error",
     "traceback": [
      "\u001b[1;31m---------------------------------------------------------------------------\u001b[0m",
      "\u001b[1;31mModuleNotFoundError\u001b[0m                       Traceback (most recent call last)",
      "\u001b[1;32m<ipython-input-117-9343afdc4268>\u001b[0m in \u001b[0;36m<module>\u001b[1;34m\u001b[0m\n\u001b[0;32m      2\u001b[0m \u001b[1;32mimport\u001b[0m \u001b[0mrandom\u001b[0m\u001b[1;33m\u001b[0m\u001b[1;33m\u001b[0m\u001b[0m\n\u001b[0;32m      3\u001b[0m \u001b[1;32mfrom\u001b[0m \u001b[0mPIL\u001b[0m \u001b[1;32mimport\u001b[0m \u001b[0mImage\u001b[0m\u001b[1;33m\u001b[0m\u001b[1;33m\u001b[0m\u001b[0m\n\u001b[1;32m----> 4\u001b[1;33m \u001b[1;32mimport\u001b[0m \u001b[0mtensorflow\u001b[0m \u001b[1;32mas\u001b[0m \u001b[0mtf\u001b[0m\u001b[1;33m\u001b[0m\u001b[1;33m\u001b[0m\u001b[0m\n\u001b[0m\u001b[0;32m      5\u001b[0m \u001b[1;32mfrom\u001b[0m \u001b[0mtensorflow\u001b[0m \u001b[1;32mimport\u001b[0m \u001b[0mkeras\u001b[0m\u001b[1;33m\u001b[0m\u001b[1;33m\u001b[0m\u001b[0m\n",
      "\u001b[1;31mModuleNotFoundError\u001b[0m: No module named 'tensorflow'"
     ]
    }
   ],
   "source": [
    "import numpy as np\n",
    "import random\n",
    "from PIL import Image\n",
    "import tensorflow as tf\n",
    "from tensorflow import keras"
   ]
  },
  {
   "cell_type": "code",
   "execution_count": 114,
   "metadata": {},
   "outputs": [],
   "source": [
    "X_image = [[0,255,0],[255,0,255],[0,255,0]]\n",
    "I_image = [[255,0,255],[255,0,255],[255,0,255]]"
   ]
  },
  {
   "cell_type": "code",
   "execution_count": 116,
   "metadata": {},
   "outputs": [
    {
     "data": {
      "image/png": "[encoded data removed]",
      "text/plain": [
       "<PIL.Image.Image image mode=L size=100x100 at 0x2543F510190>"
      ]
     },
     "execution_count": 116,
     "metadata": {},
     "output_type": "execute_result"
    }
   ],
   "source": [
    "im = Image.fromarray(np.array(X_image).astype('uint8'))\n",
    "im.resize((100,100),0)"
   ]
  },
  {
   "cell_type": "code",
   "execution_count": 101,
   "metadata": {},
   "outputs": [],
   "source": [
    "import random\n",
    "import numpy as np\n",
    "\n",
    "number_of_examples = 100\n",
    "# Our first input consists of our batch size and the 2 dimensional images (3x3).\n",
    "input_images = np.ones((number_of_examples,3,3))\n",
    "# Our second input consists of our batch size and the 1 dimensional numerical data.\n",
    "input_number = np.zeros((number_of_examples,1))\n",
    "output_array = np.zeros((number_of_examples,1))\n",
    "\n",
    "for i in range(number_of_examples):\n",
    "\t#Randomly get our number\n",
    "\trandom_number = random.randint(0,1)\n",
    "\t#Randomly select our image\n",
    "\trandom_image = random.randint(0,1)\n",
    "\t\n",
    "\tif(random_image == 0):\n",
    "\t\timage = X_image\n",
    "\telse:\n",
    "\t\timage = I_image\n",
    "\n",
    "\t#Getting our output\n",
    "\tif(random_number == 0):\n",
    "\t\tif(image == X_image):\n",
    "\t\t\toutput = 1\n",
    "\t\telse:\n",
    "\t\t\toutput = 0\n",
    "\telse:\n",
    "\t\tif(image == X_image):\n",
    "\t\t\toutput = 0\n",
    "\t\telse:\n",
    "\t\t\toutput = 1\n",
    "\n",
    "\tinput_images[i] = image\n",
    "\tinput_number[i] = random_number\n",
    "\toutput_array[i] = output\n",
    "\n",
    "#We reshape our images to the format: (batch, rows, columns, channels)\n",
    "input_images = input_images.reshape(100,3,3,1)"
   ]
  },
  {
   "cell_type": "code",
   "execution_count": 108,
   "metadata": {},
   "outputs": [
    {
     "data": {
      "image/png": "[encoded data removed]",
      "text/plain": [
       "<PIL.Image.Image image mode=L size=100x100 at 0x2543F4FAD30>"
      ]
     },
     "execution_count": 108,
     "metadata": {},
     "output_type": "execute_result"
    }
   ],
   "source": []
  },
  {
   "cell_type": "code",
   "execution_count": 106,
   "metadata": {},
   "outputs": [],
   "source": [
    "reshaped_input_images = input_images.reshape(100,3,3,1)"
   ]
  },
  {
   "cell_type": "code",
   "execution_count": 109,
   "metadata": {},
   "outputs": [
    {
     "name": "stdout",
     "output_type": "stream",
     "text": [
      "(100, 3, 3, 1)\n",
      "(100, 1)\n",
      "(100, 1)\n"
     ]
    }
   ],
   "source": [
    "print(reshaped_input_images.shape)\n",
    "print(input_number.shape)\n",
    "print(output_array.shape)"
   ]
  },
  {
   "cell_type": "code",
   "execution_count": 111,
   "metadata": {},
   "outputs": [
    {
     "data": {
      "text/plain": [
       "(3, 3, 1)"
      ]
     },
     "execution_count": 111,
     "metadata": {},
     "output_type": "execute_result"
    }
   ],
   "source": [
    "reshaped_input_images[0].shape"
   ]
  },
  {
   "cell_type": "code",
   "execution_count": 112,
   "metadata": {},
   "outputs": [
    {
     "ename": "NameError",
     "evalue": "name 'keras' is not defined",
     "output_type": "error",
     "traceback": [
      "\u001b[1;31m---------------------------------------------------------------------------\u001b[0m",
      "\u001b[1;31mNameError\u001b[0m                                 Traceback (most recent call last)",
      "\u001b[1;32m<ipython-input-112-8392ad5a8987>\u001b[0m in \u001b[0;36m<module>\u001b[1;34m\u001b[0m\n\u001b[0;32m      1\u001b[0m \u001b[1;31m#Importing from the keras.Model class\u001b[0m\u001b[1;33m\u001b[0m\u001b[1;33m\u001b[0m\u001b[1;33m\u001b[0m\u001b[0m\n\u001b[1;32m----> 2\u001b[1;33m \u001b[1;32mclass\u001b[0m \u001b[0mgenerate_model\u001b[0m\u001b[1;33m(\u001b[0m\u001b[0mkeras\u001b[0m\u001b[1;33m.\u001b[0m\u001b[0mModel\u001b[0m\u001b[1;33m)\u001b[0m\u001b[1;33m:\u001b[0m\u001b[1;33m\u001b[0m\u001b[1;33m\u001b[0m\u001b[0m\n\u001b[0m\u001b[0;32m      3\u001b[0m   \u001b[1;32mdef\u001b[0m \u001b[0m__init__\u001b[0m\u001b[1;33m(\u001b[0m\u001b[0mself\u001b[0m\u001b[1;33m)\u001b[0m\u001b[1;33m:\u001b[0m\u001b[1;33m\u001b[0m\u001b[1;33m\u001b[0m\u001b[0m\n\u001b[0;32m      4\u001b[0m     \u001b[0msuper\u001b[0m\u001b[1;33m(\u001b[0m\u001b[1;33m)\u001b[0m\u001b[1;33m.\u001b[0m\u001b[0m__init__\u001b[0m\u001b[1;33m(\u001b[0m\u001b[1;33m)\u001b[0m\u001b[1;33m\u001b[0m\u001b[1;33m\u001b[0m\u001b[0m\n\u001b[0;32m      5\u001b[0m \u001b[1;33m\u001b[0m\u001b[0m\n",
      "\u001b[1;31mNameError\u001b[0m: name 'keras' is not defined"
     ]
    }
   ],
   "source": [
    "#Importing from the keras.Model class\n",
    "class generate_model(keras.Model):\n",
    "  def __init__(self):\n",
    "    super().__init__()\n",
    "    \n",
    "    #The layers to process our image\n",
    "    self.Conv2D_1 = tf.keras.layers.Conv2D(filters = 4,\n",
    "                                           kernel_size = (1,1),\n",
    "                                          strides = (1,1),\n",
    "                                          activation = \"tanh\")\n",
    "\n",
    "    #The layers to process our number\n",
    "    self.number_dense_1 = tf.keras.layers.Dense(units=4, activation=\"tanh\")\n",
    "\n",
    "    #our combined layers\n",
    "    self.combined_dense_1 = tf.keras.layers.Dense(units=1, activation=\"sigmoid\")\n",
    "\n",
    "\n",
    "  def call(self, input_image,input_number):\n",
    "    \n",
    "    #Image model\n",
    "    I = self.Conv2D_1(input_image)\n",
    "    #Flatten I so we can merge our data.\n",
    "    I = tf.keras.layers.Flatten(N)\n",
    "    \n",
    "    #Number model\n",
    "    N = self.number_dense_1(input_number)\n",
    "    N = tf.keras.layers.Flatten(N) #Flatten N so we can merge our data.\n",
    "\n",
    "    #Combined model\n",
    "    x = tf.concat([N,I],1)\n",
    "    x = self.combined_dense_1(x)\n",
    "    \n",
    "\n",
    "    return x\n"
   ]
  },
  {
   "cell_type": "code",
   "execution_count": null,
   "metadata": {},
   "outputs": [],
   "source": []
  }
 ],
 "metadata": {
  "kernelspec": {
   "display_name": "Python 3",
   "language": "python",
   "name": "python3"
  },
  "language_info": {
   "codemirror_mode": {
    "name": "ipython",
    "version": 3
   },
   "file_extension": ".py",
   "mimetype": "text/x-python",
   "name": "python",
   "nbconvert_exporter": "python",
   "pygments_lexer": "ipython3",
   "version": "3.8.0"
  }
 },
 "nbformat": 4,
 "nbformat_minor": 4
}
